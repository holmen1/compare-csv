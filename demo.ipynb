{
 "cells": [
  {
   "cell_type": "code",
   "execution_count": 1,
   "id": "initial_id",
   "metadata": {
    "collapsed": true,
    "ExecuteTime": {
     "end_time": "2024-01-21T16:47:03.750639228Z",
     "start_time": "2024-01-21T16:47:03.430823804Z"
    }
   },
   "outputs": [],
   "source": [
    "import pandas as pd\n",
    "from comparator import Comparator"
   ]
  },
  {
   "cell_type": "code",
   "outputs": [],
   "source": [
    "# Files to compare paths\n",
    "file1 = \"data/master.csv\"\n",
    "file2 = \"data/sample.csv\"\n",
    "result_folder = \"data\""
   ],
   "metadata": {
    "collapsed": false,
    "ExecuteTime": {
     "end_time": "2024-01-21T16:47:03.751157649Z",
     "start_time": "2024-01-21T16:47:03.750448448Z"
    }
   },
   "id": "f73adbfa17c309b1",
   "execution_count": 2
  },
  {
   "cell_type": "code",
   "outputs": [
    {
     "data": {
      "text/plain": "      name  value1  value2   value3\nID                                 \n1    first   0.001   0.002        2\n2   second   0.003   0.004        2\n3    first   0.005   0.006        2\n4   second   0.007   0.008        2",
      "text/html": "<div>\n<style scoped>\n    .dataframe tbody tr th:only-of-type {\n        vertical-align: middle;\n    }\n\n    .dataframe tbody tr th {\n        vertical-align: top;\n    }\n\n    .dataframe thead th {\n        text-align: right;\n    }\n</style>\n<table border=\"1\" class=\"dataframe\">\n  <thead>\n    <tr style=\"text-align: right;\">\n      <th></th>\n      <th>name</th>\n      <th>value1</th>\n      <th>value2</th>\n      <th>value3</th>\n    </tr>\n    <tr>\n      <th>ID</th>\n      <th></th>\n      <th></th>\n      <th></th>\n      <th></th>\n    </tr>\n  </thead>\n  <tbody>\n    <tr>\n      <th>1</th>\n      <td>first</td>\n      <td>0.001</td>\n      <td>0.002</td>\n      <td>2</td>\n    </tr>\n    <tr>\n      <th>2</th>\n      <td>second</td>\n      <td>0.003</td>\n      <td>0.004</td>\n      <td>2</td>\n    </tr>\n    <tr>\n      <th>3</th>\n      <td>first</td>\n      <td>0.005</td>\n      <td>0.006</td>\n      <td>2</td>\n    </tr>\n    <tr>\n      <th>4</th>\n      <td>second</td>\n      <td>0.007</td>\n      <td>0.008</td>\n      <td>2</td>\n    </tr>\n  </tbody>\n</table>\n</div>"
     },
     "execution_count": 3,
     "metadata": {},
     "output_type": "execute_result"
    }
   ],
   "source": [
    "pd.read_csv(file1, index_col=0)"
   ],
   "metadata": {
    "collapsed": false,
    "ExecuteTime": {
     "end_time": "2024-01-21T16:47:03.751705306Z",
     "start_time": "2024-01-21T16:47:03.750620174Z"
    }
   },
   "id": "993d0dd17c903fcd",
   "execution_count": 3
  },
  {
   "cell_type": "code",
   "outputs": [
    {
     "data": {
      "text/plain": "      name  value1   value2   value5\nID                                  \n1    first   0.001  0.00202        2\n2   second   0.004  0.00400        2\n3     fizt   0.005  0.00600        2\n7     fizt   0.005  0.00600        2",
      "text/html": "<div>\n<style scoped>\n    .dataframe tbody tr th:only-of-type {\n        vertical-align: middle;\n    }\n\n    .dataframe tbody tr th {\n        vertical-align: top;\n    }\n\n    .dataframe thead th {\n        text-align: right;\n    }\n</style>\n<table border=\"1\" class=\"dataframe\">\n  <thead>\n    <tr style=\"text-align: right;\">\n      <th></th>\n      <th>name</th>\n      <th>value1</th>\n      <th>value2</th>\n      <th>value5</th>\n    </tr>\n    <tr>\n      <th>ID</th>\n      <th></th>\n      <th></th>\n      <th></th>\n      <th></th>\n    </tr>\n  </thead>\n  <tbody>\n    <tr>\n      <th>1</th>\n      <td>first</td>\n      <td>0.001</td>\n      <td>0.00202</td>\n      <td>2</td>\n    </tr>\n    <tr>\n      <th>2</th>\n      <td>second</td>\n      <td>0.004</td>\n      <td>0.00400</td>\n      <td>2</td>\n    </tr>\n    <tr>\n      <th>3</th>\n      <td>fizt</td>\n      <td>0.005</td>\n      <td>0.00600</td>\n      <td>2</td>\n    </tr>\n    <tr>\n      <th>7</th>\n      <td>fizt</td>\n      <td>0.005</td>\n      <td>0.00600</td>\n      <td>2</td>\n    </tr>\n  </tbody>\n</table>\n</div>"
     },
     "execution_count": 4,
     "metadata": {},
     "output_type": "execute_result"
    }
   ],
   "source": [
    "pd.read_csv(file2, index_col=0)"
   ],
   "metadata": {
    "collapsed": false,
    "ExecuteTime": {
     "end_time": "2024-01-21T16:47:03.752455798Z",
     "start_time": "2024-01-21T16:47:03.750715528Z"
    }
   },
   "id": "74fc4a37b440775d",
   "execution_count": 4
  },
  {
   "cell_type": "markdown",
   "source": [
    "## Usage"
   ],
   "metadata": {
    "collapsed": false
   },
   "id": "272234ac49820dee"
  },
  {
   "cell_type": "code",
   "outputs": [
    {
     "name": "stdout",
     "output_type": "stream",
     "text": [
      "Files data/master.csv and data/sample.csv have differences\n",
      "Number of values differences: 2\n",
      "Number of strings differences: 2\n",
      "Number of columns differences: 2\n",
      "Number of index differences: 2\n",
      "See data/ for details\n"
     ]
    }
   ],
   "source": [
    "compare = Comparator(file1, file2, result_folder, tol=1e-4)"
   ],
   "metadata": {
    "collapsed": false,
    "ExecuteTime": {
     "end_time": "2024-01-21T16:47:03.800476026Z",
     "start_time": "2024-01-21T16:47:03.750774801Z"
    }
   },
   "id": "4c0f9fcf7656310f",
   "execution_count": 5
  },
  {
   "cell_type": "code",
   "outputs": [],
   "source": [],
   "metadata": {
    "collapsed": false,
    "ExecuteTime": {
     "end_time": "2024-01-21T16:47:03.826910917Z",
     "start_time": "2024-01-21T16:47:03.776712046Z"
    }
   },
   "id": "6b880d5224b93c66",
   "execution_count": 5
  },
  {
   "cell_type": "code",
   "outputs": [],
   "source": [
    "values_df, strings_df, columns_df, index_df = compare.diffs"
   ],
   "metadata": {
    "collapsed": false,
    "ExecuteTime": {
     "end_time": "2024-01-21T16:47:03.827380110Z",
     "start_time": "2024-01-21T16:47:03.781322860Z"
    }
   },
   "id": "3659605028e18680",
   "execution_count": 6
  },
  {
   "cell_type": "code",
   "outputs": [
    {
     "data": {
      "text/plain": "             name  value1\nID source                \n2  master  second   0.003\n   sample  second   0.004",
      "text/html": "<div>\n<style scoped>\n    .dataframe tbody tr th:only-of-type {\n        vertical-align: middle;\n    }\n\n    .dataframe tbody tr th {\n        vertical-align: top;\n    }\n\n    .dataframe thead th {\n        text-align: right;\n    }\n</style>\n<table border=\"1\" class=\"dataframe\">\n  <thead>\n    <tr style=\"text-align: right;\">\n      <th></th>\n      <th></th>\n      <th>name</th>\n      <th>value1</th>\n    </tr>\n    <tr>\n      <th>ID</th>\n      <th>source</th>\n      <th></th>\n      <th></th>\n    </tr>\n  </thead>\n  <tbody>\n    <tr>\n      <th rowspan=\"2\" valign=\"top\">2</th>\n      <th>master</th>\n      <td>second</td>\n      <td>0.003</td>\n    </tr>\n    <tr>\n      <th>sample</th>\n      <td>second</td>\n      <td>0.004</td>\n    </tr>\n  </tbody>\n</table>\n</div>"
     },
     "execution_count": 7,
     "metadata": {},
     "output_type": "execute_result"
    }
   ],
   "source": [
    "values_df"
   ],
   "metadata": {
    "collapsed": false,
    "ExecuteTime": {
     "end_time": "2024-01-21T16:47:03.832062298Z",
     "start_time": "2024-01-21T16:47:03.789184991Z"
    }
   },
   "id": "f03e6df59e0bfe9f",
   "execution_count": 7
  },
  {
   "cell_type": "code",
   "outputs": [
    {
     "data": {
      "text/plain": "            name\nID source       \n3  master  first\n   sample   fizt",
      "text/html": "<div>\n<style scoped>\n    .dataframe tbody tr th:only-of-type {\n        vertical-align: middle;\n    }\n\n    .dataframe tbody tr th {\n        vertical-align: top;\n    }\n\n    .dataframe thead th {\n        text-align: right;\n    }\n</style>\n<table border=\"1\" class=\"dataframe\">\n  <thead>\n    <tr style=\"text-align: right;\">\n      <th></th>\n      <th></th>\n      <th>name</th>\n    </tr>\n    <tr>\n      <th>ID</th>\n      <th>source</th>\n      <th></th>\n    </tr>\n  </thead>\n  <tbody>\n    <tr>\n      <th rowspan=\"2\" valign=\"top\">3</th>\n      <th>master</th>\n      <td>first</td>\n    </tr>\n    <tr>\n      <th>sample</th>\n      <td>fizt</td>\n    </tr>\n  </tbody>\n</table>\n</div>"
     },
     "execution_count": 8,
     "metadata": {},
     "output_type": "execute_result"
    }
   ],
   "source": [
    "strings_df"
   ],
   "metadata": {
    "collapsed": false,
    "ExecuteTime": {
     "end_time": "2024-01-21T16:47:03.889323985Z",
     "start_time": "2024-01-21T16:47:03.797009490Z"
    }
   },
   "id": "2d8db6e2951ae02c",
   "execution_count": 8
  },
  {
   "cell_type": "code",
   "outputs": [
    {
     "data": {
      "text/plain": "          status\ncolumn          \n value3  deleted\n value5    added",
      "text/html": "<div>\n<style scoped>\n    .dataframe tbody tr th:only-of-type {\n        vertical-align: middle;\n    }\n\n    .dataframe tbody tr th {\n        vertical-align: top;\n    }\n\n    .dataframe thead th {\n        text-align: right;\n    }\n</style>\n<table border=\"1\" class=\"dataframe\">\n  <thead>\n    <tr style=\"text-align: right;\">\n      <th></th>\n      <th>status</th>\n    </tr>\n    <tr>\n      <th>column</th>\n      <th></th>\n    </tr>\n  </thead>\n  <tbody>\n    <tr>\n      <th>value3</th>\n      <td>deleted</td>\n    </tr>\n    <tr>\n      <th>value5</th>\n      <td>added</td>\n    </tr>\n  </tbody>\n</table>\n</div>"
     },
     "execution_count": 9,
     "metadata": {},
     "output_type": "execute_result"
    }
   ],
   "source": [
    "columns_df"
   ],
   "metadata": {
    "collapsed": false,
    "ExecuteTime": {
     "end_time": "2024-01-21T16:47:03.945684218Z",
     "start_time": "2024-01-21T16:47:03.804231953Z"
    }
   },
   "id": "d82862e6fdd1d108",
   "execution_count": 9
  },
  {
   "cell_type": "code",
   "outputs": [
    {
     "data": {
      "text/plain": "        status\nindex         \n4      deleted\n7        added",
      "text/html": "<div>\n<style scoped>\n    .dataframe tbody tr th:only-of-type {\n        vertical-align: middle;\n    }\n\n    .dataframe tbody tr th {\n        vertical-align: top;\n    }\n\n    .dataframe thead th {\n        text-align: right;\n    }\n</style>\n<table border=\"1\" class=\"dataframe\">\n  <thead>\n    <tr style=\"text-align: right;\">\n      <th></th>\n      <th>status</th>\n    </tr>\n    <tr>\n      <th>index</th>\n      <th></th>\n    </tr>\n  </thead>\n  <tbody>\n    <tr>\n      <th>4</th>\n      <td>deleted</td>\n    </tr>\n    <tr>\n      <th>7</th>\n      <td>added</td>\n    </tr>\n  </tbody>\n</table>\n</div>"
     },
     "execution_count": 10,
     "metadata": {},
     "output_type": "execute_result"
    }
   ],
   "source": [
    "index_df"
   ],
   "metadata": {
    "collapsed": false,
    "ExecuteTime": {
     "end_time": "2024-01-21T16:47:03.946293037Z",
     "start_time": "2024-01-21T16:47:03.846311471Z"
    }
   },
   "id": "8a217a9deee8fdd3",
   "execution_count": 10
  },
  {
   "cell_type": "code",
   "outputs": [
    {
     "data": {
      "text/plain": "      name  value1  value2   value3\nID                                 \n1    first   0.000     0.0       -2\n2   second   0.001     0.0       -2\n3    first   0.000     0.0       -2\n4   second -99.000   -99.0       -2",
      "text/html": "<div>\n<style scoped>\n    .dataframe tbody tr th:only-of-type {\n        vertical-align: middle;\n    }\n\n    .dataframe tbody tr th {\n        vertical-align: top;\n    }\n\n    .dataframe thead th {\n        text-align: right;\n    }\n</style>\n<table border=\"1\" class=\"dataframe\">\n  <thead>\n    <tr style=\"text-align: right;\">\n      <th></th>\n      <th>name</th>\n      <th>value1</th>\n      <th>value2</th>\n      <th>value3</th>\n    </tr>\n    <tr>\n      <th>ID</th>\n      <th></th>\n      <th></th>\n      <th></th>\n      <th></th>\n    </tr>\n  </thead>\n  <tbody>\n    <tr>\n      <th>1</th>\n      <td>first</td>\n      <td>0.000</td>\n      <td>0.0</td>\n      <td>-2</td>\n    </tr>\n    <tr>\n      <th>2</th>\n      <td>second</td>\n      <td>0.001</td>\n      <td>0.0</td>\n      <td>-2</td>\n    </tr>\n    <tr>\n      <th>3</th>\n      <td>first</td>\n      <td>0.000</td>\n      <td>0.0</td>\n      <td>-2</td>\n    </tr>\n    <tr>\n      <th>4</th>\n      <td>second</td>\n      <td>-99.000</td>\n      <td>-99.0</td>\n      <td>-2</td>\n    </tr>\n  </tbody>\n</table>\n</div>"
     },
     "execution_count": 11,
     "metadata": {},
     "output_type": "execute_result"
    }
   ],
   "source": [
    "pd.read_csv(\"data/diff_master.csv\", index_col=0)"
   ],
   "metadata": {
    "collapsed": false,
    "ExecuteTime": {
     "end_time": "2024-01-21T16:47:03.946788917Z",
     "start_time": "2024-01-21T16:47:03.846402100Z"
    }
   },
   "id": "be326a621f346fdc",
   "execution_count": 11
  },
  {
   "cell_type": "code",
   "outputs": [],
   "source": [],
   "metadata": {
    "collapsed": false,
    "ExecuteTime": {
     "end_time": "2024-01-21T16:47:03.947093141Z",
     "start_time": "2024-01-21T16:47:03.846488576Z"
    }
   },
   "id": "5674fd89bd86b8e6",
   "execution_count": 11
  }
 ],
 "metadata": {
  "kernelspec": {
   "display_name": "Python 3",
   "language": "python",
   "name": "python3"
  },
  "language_info": {
   "codemirror_mode": {
    "name": "ipython",
    "version": 2
   },
   "file_extension": ".py",
   "mimetype": "text/x-python",
   "name": "python",
   "nbconvert_exporter": "python",
   "pygments_lexer": "ipython2",
   "version": "2.7.6"
  }
 },
 "nbformat": 4,
 "nbformat_minor": 5
}
