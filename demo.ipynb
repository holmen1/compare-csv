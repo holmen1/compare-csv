{
 "cells": [
  {
   "cell_type": "code",
   "execution_count": 1,
   "id": "initial_id",
   "metadata": {
    "collapsed": true,
    "ExecuteTime": {
     "end_time": "2024-01-27T16:43:20.626559Z",
     "start_time": "2024-01-27T16:43:20.425645Z"
    }
   },
   "outputs": [],
   "source": [
    "import pandas as pd\n",
    "from comparator import Comparator"
   ]
  },
  {
   "cell_type": "code",
   "outputs": [],
   "source": [
    "# Files to compare paths\n",
    "file1 = \"data/master.csv\"\n",
    "file2 = \"data/sample.csv\"\n",
    "result_folder = \"data\"\n",
    "keys = [\"ID\", \"name1\"]\n",
    "tol = 1e-4"
   ],
   "metadata": {
    "collapsed": false,
    "ExecuteTime": {
     "end_time": "2024-01-27T16:43:20.638886Z",
     "start_time": "2024-01-27T16:43:20.632990Z"
    }
   },
   "id": "f73adbfa17c309b1",
   "execution_count": 2
  },
  {
   "cell_type": "code",
   "outputs": [
    {
     "data": {
      "text/plain": "     name1    name2  value1  value2  value3\nID                                         \n1    first      hej   0.001   0.002       2\n1   second    hello   0.003   0.004       2\n2    first   goddag   0.005   0.006       2\n2   second  bonjour   0.007   0.008       2\n3    first      hej   0.009   0.010       2\n3   second    hello   0.011   0.012       2",
      "text/html": "<div>\n<style scoped>\n    .dataframe tbody tr th:only-of-type {\n        vertical-align: middle;\n    }\n\n    .dataframe tbody tr th {\n        vertical-align: top;\n    }\n\n    .dataframe thead th {\n        text-align: right;\n    }\n</style>\n<table border=\"1\" class=\"dataframe\">\n  <thead>\n    <tr style=\"text-align: right;\">\n      <th></th>\n      <th>name1</th>\n      <th>name2</th>\n      <th>value1</th>\n      <th>value2</th>\n      <th>value3</th>\n    </tr>\n    <tr>\n      <th>ID</th>\n      <th></th>\n      <th></th>\n      <th></th>\n      <th></th>\n      <th></th>\n    </tr>\n  </thead>\n  <tbody>\n    <tr>\n      <th>1</th>\n      <td>first</td>\n      <td>hej</td>\n      <td>0.001</td>\n      <td>0.002</td>\n      <td>2</td>\n    </tr>\n    <tr>\n      <th>1</th>\n      <td>second</td>\n      <td>hello</td>\n      <td>0.003</td>\n      <td>0.004</td>\n      <td>2</td>\n    </tr>\n    <tr>\n      <th>2</th>\n      <td>first</td>\n      <td>goddag</td>\n      <td>0.005</td>\n      <td>0.006</td>\n      <td>2</td>\n    </tr>\n    <tr>\n      <th>2</th>\n      <td>second</td>\n      <td>bonjour</td>\n      <td>0.007</td>\n      <td>0.008</td>\n      <td>2</td>\n    </tr>\n    <tr>\n      <th>3</th>\n      <td>first</td>\n      <td>hej</td>\n      <td>0.009</td>\n      <td>0.010</td>\n      <td>2</td>\n    </tr>\n    <tr>\n      <th>3</th>\n      <td>second</td>\n      <td>hello</td>\n      <td>0.011</td>\n      <td>0.012</td>\n      <td>2</td>\n    </tr>\n  </tbody>\n</table>\n</div>"
     },
     "execution_count": 3,
     "metadata": {},
     "output_type": "execute_result"
    }
   ],
   "source": [
    "pd.read_csv(file1, index_col=0)"
   ],
   "metadata": {
    "collapsed": false,
    "ExecuteTime": {
     "end_time": "2024-01-27T16:43:20.650204Z",
     "start_time": "2024-01-27T16:43:20.637143Z"
    }
   },
   "id": "993d0dd17c903fcd",
   "execution_count": 3
  },
  {
   "cell_type": "code",
   "outputs": [
    {
     "data": {
      "text/plain": "     name1    name2   value1  value2  value5\nID                                          \n1    first      hej  0.00100  0.0002       2\n1   second     helo  0.00303  0.0040       2\n2    first   goddag  0.00600  0.0060       2\n2   second  bonjour  0.00700  0.0080       2\n4    first      hej  0.00900  0.0100       2\n4   second    hello  0.01100  0.0120       2",
      "text/html": "<div>\n<style scoped>\n    .dataframe tbody tr th:only-of-type {\n        vertical-align: middle;\n    }\n\n    .dataframe tbody tr th {\n        vertical-align: top;\n    }\n\n    .dataframe thead th {\n        text-align: right;\n    }\n</style>\n<table border=\"1\" class=\"dataframe\">\n  <thead>\n    <tr style=\"text-align: right;\">\n      <th></th>\n      <th>name1</th>\n      <th>name2</th>\n      <th>value1</th>\n      <th>value2</th>\n      <th>value5</th>\n    </tr>\n    <tr>\n      <th>ID</th>\n      <th></th>\n      <th></th>\n      <th></th>\n      <th></th>\n      <th></th>\n    </tr>\n  </thead>\n  <tbody>\n    <tr>\n      <th>1</th>\n      <td>first</td>\n      <td>hej</td>\n      <td>0.00100</td>\n      <td>0.0002</td>\n      <td>2</td>\n    </tr>\n    <tr>\n      <th>1</th>\n      <td>second</td>\n      <td>helo</td>\n      <td>0.00303</td>\n      <td>0.0040</td>\n      <td>2</td>\n    </tr>\n    <tr>\n      <th>2</th>\n      <td>first</td>\n      <td>goddag</td>\n      <td>0.00600</td>\n      <td>0.0060</td>\n      <td>2</td>\n    </tr>\n    <tr>\n      <th>2</th>\n      <td>second</td>\n      <td>bonjour</td>\n      <td>0.00700</td>\n      <td>0.0080</td>\n      <td>2</td>\n    </tr>\n    <tr>\n      <th>4</th>\n      <td>first</td>\n      <td>hej</td>\n      <td>0.00900</td>\n      <td>0.0100</td>\n      <td>2</td>\n    </tr>\n    <tr>\n      <th>4</th>\n      <td>second</td>\n      <td>hello</td>\n      <td>0.01100</td>\n      <td>0.0120</td>\n      <td>2</td>\n    </tr>\n  </tbody>\n</table>\n</div>"
     },
     "execution_count": 4,
     "metadata": {},
     "output_type": "execute_result"
    }
   ],
   "source": [
    "pd.read_csv(file2, index_col=0)"
   ],
   "metadata": {
    "collapsed": false,
    "ExecuteTime": {
     "end_time": "2024-01-27T16:43:20.667479Z",
     "start_time": "2024-01-27T16:43:20.649229Z"
    }
   },
   "id": "74fc4a37b440775d",
   "execution_count": 4
  },
  {
   "cell_type": "markdown",
   "source": [
    "## Usage"
   ],
   "metadata": {
    "collapsed": false
   },
   "id": "272234ac49820dee"
  },
  {
   "cell_type": "code",
   "outputs": [
    {
     "name": "stdout",
     "output_type": "stream",
     "text": [
      "Files data/master.csv and data/sample.csv have differences\n",
      "diff_columns: 2\n",
      "diff_strings: 2\n",
      "diff_indices: 4\n",
      "diff_numbers: 6\n",
      "See data/ for details\n"
     ]
    }
   ],
   "source": [
    "CF = Comparator(file1, file2, result_folder, keys, tol)"
   ],
   "metadata": {
    "collapsed": false,
    "ExecuteTime": {
     "end_time": "2024-01-27T16:43:20.701634Z",
     "start_time": "2024-01-27T16:43:20.662824Z"
    }
   },
   "id": "4c0f9fcf7656310f",
   "execution_count": 5
  },
  {
   "cell_type": "code",
   "outputs": [],
   "source": [
    "df_numbers, df_strings, df_columns, df_index = CF.diffs"
   ],
   "metadata": {
    "collapsed": false,
    "ExecuteTime": {
     "end_time": "2024-01-27T16:43:20.701778Z",
     "start_time": "2024-01-27T16:43:20.687024Z"
    }
   },
   "id": "2e06cbd2df26d523",
   "execution_count": 6
  },
  {
   "cell_type": "code",
   "outputs": [
    {
     "data": {
      "text/plain": "             name2  value1  value2  value3\nID name1                                  \n1  first       hej   0.000 -0.0018      -2\n   second    hello   0.000  0.0000      -2\n2  first    goddag   0.001  0.0000      -2\n   second  bonjour   0.000  0.0000      -2\n3  first       hej  -0.009 -0.0100      -2\n   second    hello  -0.011 -0.0120      -2",
      "text/html": "<div>\n<style scoped>\n    .dataframe tbody tr th:only-of-type {\n        vertical-align: middle;\n    }\n\n    .dataframe tbody tr th {\n        vertical-align: top;\n    }\n\n    .dataframe thead th {\n        text-align: right;\n    }\n</style>\n<table border=\"1\" class=\"dataframe\">\n  <thead>\n    <tr style=\"text-align: right;\">\n      <th></th>\n      <th></th>\n      <th>name2</th>\n      <th>value1</th>\n      <th>value2</th>\n      <th>value3</th>\n    </tr>\n    <tr>\n      <th>ID</th>\n      <th>name1</th>\n      <th></th>\n      <th></th>\n      <th></th>\n      <th></th>\n    </tr>\n  </thead>\n  <tbody>\n    <tr>\n      <th rowspan=\"2\" valign=\"top\">1</th>\n      <th>first</th>\n      <td>hej</td>\n      <td>0.000</td>\n      <td>-0.0018</td>\n      <td>-2</td>\n    </tr>\n    <tr>\n      <th>second</th>\n      <td>hello</td>\n      <td>0.000</td>\n      <td>0.0000</td>\n      <td>-2</td>\n    </tr>\n    <tr>\n      <th rowspan=\"2\" valign=\"top\">2</th>\n      <th>first</th>\n      <td>goddag</td>\n      <td>0.001</td>\n      <td>0.0000</td>\n      <td>-2</td>\n    </tr>\n    <tr>\n      <th>second</th>\n      <td>bonjour</td>\n      <td>0.000</td>\n      <td>0.0000</td>\n      <td>-2</td>\n    </tr>\n    <tr>\n      <th rowspan=\"2\" valign=\"top\">3</th>\n      <th>first</th>\n      <td>hej</td>\n      <td>-0.009</td>\n      <td>-0.0100</td>\n      <td>-2</td>\n    </tr>\n    <tr>\n      <th>second</th>\n      <td>hello</td>\n      <td>-0.011</td>\n      <td>-0.0120</td>\n      <td>-2</td>\n    </tr>\n  </tbody>\n</table>\n</div>"
     },
     "execution_count": 7,
     "metadata": {},
     "output_type": "execute_result"
    }
   ],
   "source": [
    "# Differences in numerical values\n",
    "df_numbers"
   ],
   "metadata": {
    "collapsed": false,
    "ExecuteTime": {
     "end_time": "2024-01-27T16:43:20.702012Z",
     "start_time": "2024-01-27T16:43:20.694518Z"
    }
   },
   "id": "f03e6df59e0bfe9f",
   "execution_count": 7
  },
  {
   "cell_type": "code",
   "outputs": [
    {
     "data": {
      "text/plain": "        value1  value2  value3\nname1                         \nfirst   -0.008 -0.0118      -6\nsecond  -0.011 -0.0120      -6",
      "text/html": "<div>\n<style scoped>\n    .dataframe tbody tr th:only-of-type {\n        vertical-align: middle;\n    }\n\n    .dataframe tbody tr th {\n        vertical-align: top;\n    }\n\n    .dataframe thead th {\n        text-align: right;\n    }\n</style>\n<table border=\"1\" class=\"dataframe\">\n  <thead>\n    <tr style=\"text-align: right;\">\n      <th></th>\n      <th>value1</th>\n      <th>value2</th>\n      <th>value3</th>\n    </tr>\n    <tr>\n      <th>name1</th>\n      <th></th>\n      <th></th>\n      <th></th>\n    </tr>\n  </thead>\n  <tbody>\n    <tr>\n      <th>first</th>\n      <td>-0.008</td>\n      <td>-0.0118</td>\n      <td>-6</td>\n    </tr>\n    <tr>\n      <th>second</th>\n      <td>-0.011</td>\n      <td>-0.0120</td>\n      <td>-6</td>\n    </tr>\n  </tbody>\n</table>\n</div>"
     },
     "execution_count": 8,
     "metadata": {},
     "output_type": "execute_result"
    }
   ],
   "source": [
    "# Differences in numerical values, grouped and summed\n",
    "df_numbers.groupby(\"name1\").sum(numeric_only=True)"
   ],
   "metadata": {
    "collapsed": false,
    "ExecuteTime": {
     "end_time": "2024-01-27T16:43:20.712124Z",
     "start_time": "2024-01-27T16:43:20.699572Z"
    }
   },
   "id": "168e9a4132cb2d12",
   "execution_count": 8
  },
  {
   "cell_type": "code",
   "outputs": [
    {
     "data": {
      "text/plain": "                  name2\nID name1  source       \n1  second master  hello\n          sample   helo",
      "text/html": "<div>\n<style scoped>\n    .dataframe tbody tr th:only-of-type {\n        vertical-align: middle;\n    }\n\n    .dataframe tbody tr th {\n        vertical-align: top;\n    }\n\n    .dataframe thead th {\n        text-align: right;\n    }\n</style>\n<table border=\"1\" class=\"dataframe\">\n  <thead>\n    <tr style=\"text-align: right;\">\n      <th></th>\n      <th></th>\n      <th></th>\n      <th>name2</th>\n    </tr>\n    <tr>\n      <th>ID</th>\n      <th>name1</th>\n      <th>source</th>\n      <th></th>\n    </tr>\n  </thead>\n  <tbody>\n    <tr>\n      <th rowspan=\"2\" valign=\"top\">1</th>\n      <th rowspan=\"2\" valign=\"top\">second</th>\n      <th>master</th>\n      <td>hello</td>\n    </tr>\n    <tr>\n      <th>sample</th>\n      <td>helo</td>\n    </tr>\n  </tbody>\n</table>\n</div>"
     },
     "execution_count": 9,
     "metadata": {},
     "output_type": "execute_result"
    }
   ],
   "source": [
    "# Differences in string values\n",
    "df_strings"
   ],
   "metadata": {
    "collapsed": false,
    "ExecuteTime": {
     "end_time": "2024-01-27T16:43:20.715021Z",
     "start_time": "2024-01-27T16:43:20.703206Z"
    }
   },
   "id": "2d8db6e2951ae02c",
   "execution_count": 9
  },
  {
   "cell_type": "code",
   "outputs": [
    {
     "data": {
      "text/plain": "         status\ncolumn         \nvalue3  deleted\nvalue5    added",
      "text/html": "<div>\n<style scoped>\n    .dataframe tbody tr th:only-of-type {\n        vertical-align: middle;\n    }\n\n    .dataframe tbody tr th {\n        vertical-align: top;\n    }\n\n    .dataframe thead th {\n        text-align: right;\n    }\n</style>\n<table border=\"1\" class=\"dataframe\">\n  <thead>\n    <tr style=\"text-align: right;\">\n      <th></th>\n      <th>status</th>\n    </tr>\n    <tr>\n      <th>column</th>\n      <th></th>\n    </tr>\n  </thead>\n  <tbody>\n    <tr>\n      <th>value3</th>\n      <td>deleted</td>\n    </tr>\n    <tr>\n      <th>value5</th>\n      <td>added</td>\n    </tr>\n  </tbody>\n</table>\n</div>"
     },
     "execution_count": 10,
     "metadata": {},
     "output_type": "execute_result"
    }
   ],
   "source": [
    "# Differences in column names\n",
    "df_columns"
   ],
   "metadata": {
    "collapsed": false,
    "ExecuteTime": {
     "end_time": "2024-01-27T16:43:20.737154Z",
     "start_time": "2024-01-27T16:43:20.705986Z"
    }
   },
   "id": "d82862e6fdd1d108",
   "execution_count": 10
  },
  {
   "cell_type": "code",
   "outputs": [
    {
     "data": {
      "text/plain": "              status\nindex               \n(3, first)   deleted\n(3, second)  deleted\n(4, first)     added\n(4, second)    added",
      "text/html": "<div>\n<style scoped>\n    .dataframe tbody tr th:only-of-type {\n        vertical-align: middle;\n    }\n\n    .dataframe tbody tr th {\n        vertical-align: top;\n    }\n\n    .dataframe thead th {\n        text-align: right;\n    }\n</style>\n<table border=\"1\" class=\"dataframe\">\n  <thead>\n    <tr style=\"text-align: right;\">\n      <th></th>\n      <th>status</th>\n    </tr>\n    <tr>\n      <th>index</th>\n      <th></th>\n    </tr>\n  </thead>\n  <tbody>\n    <tr>\n      <th>(3, first)</th>\n      <td>deleted</td>\n    </tr>\n    <tr>\n      <th>(3, second)</th>\n      <td>deleted</td>\n    </tr>\n    <tr>\n      <th>(4, first)</th>\n      <td>added</td>\n    </tr>\n    <tr>\n      <th>(4, second)</th>\n      <td>added</td>\n    </tr>\n  </tbody>\n</table>\n</div>"
     },
     "execution_count": 11,
     "metadata": {},
     "output_type": "execute_result"
    }
   ],
   "source": [
    "# Differences in index\n",
    "df_index"
   ],
   "metadata": {
    "collapsed": false,
    "ExecuteTime": {
     "end_time": "2024-01-27T16:43:20.737548Z",
     "start_time": "2024-01-27T16:43:20.708931Z"
    }
   },
   "id": "8a217a9deee8fdd3",
   "execution_count": 11
  },
  {
   "cell_type": "code",
   "outputs": [
    {
     "data": {
      "text/plain": "   ID   name1    name2  value1  value2  value3\n0   1   first      hej   0.000 -0.0018      -2\n1   1  second    hello   0.000  0.0000      -2\n2   2   first   goddag   0.001  0.0000      -2\n3   2  second  bonjour   0.000  0.0000      -2\n4   3   first      hej  -0.009 -0.0100      -2\n5   3  second    hello  -0.011 -0.0120      -2",
      "text/html": "<div>\n<style scoped>\n    .dataframe tbody tr th:only-of-type {\n        vertical-align: middle;\n    }\n\n    .dataframe tbody tr th {\n        vertical-align: top;\n    }\n\n    .dataframe thead th {\n        text-align: right;\n    }\n</style>\n<table border=\"1\" class=\"dataframe\">\n  <thead>\n    <tr style=\"text-align: right;\">\n      <th></th>\n      <th>ID</th>\n      <th>name1</th>\n      <th>name2</th>\n      <th>value1</th>\n      <th>value2</th>\n      <th>value3</th>\n    </tr>\n  </thead>\n  <tbody>\n    <tr>\n      <th>0</th>\n      <td>1</td>\n      <td>first</td>\n      <td>hej</td>\n      <td>0.000</td>\n      <td>-0.0018</td>\n      <td>-2</td>\n    </tr>\n    <tr>\n      <th>1</th>\n      <td>1</td>\n      <td>second</td>\n      <td>hello</td>\n      <td>0.000</td>\n      <td>0.0000</td>\n      <td>-2</td>\n    </tr>\n    <tr>\n      <th>2</th>\n      <td>2</td>\n      <td>first</td>\n      <td>goddag</td>\n      <td>0.001</td>\n      <td>0.0000</td>\n      <td>-2</td>\n    </tr>\n    <tr>\n      <th>3</th>\n      <td>2</td>\n      <td>second</td>\n      <td>bonjour</td>\n      <td>0.000</td>\n      <td>0.0000</td>\n      <td>-2</td>\n    </tr>\n    <tr>\n      <th>4</th>\n      <td>3</td>\n      <td>first</td>\n      <td>hej</td>\n      <td>-0.009</td>\n      <td>-0.0100</td>\n      <td>-2</td>\n    </tr>\n    <tr>\n      <th>5</th>\n      <td>3</td>\n      <td>second</td>\n      <td>hello</td>\n      <td>-0.011</td>\n      <td>-0.0120</td>\n      <td>-2</td>\n    </tr>\n  </tbody>\n</table>\n</div>"
     },
     "execution_count": 12,
     "metadata": {},
     "output_type": "execute_result"
    }
   ],
   "source": [
    "pd.read_csv(\"data/diff_numbers.csv\")"
   ],
   "metadata": {
    "collapsed": false,
    "ExecuteTime": {
     "end_time": "2024-01-27T16:43:20.738172Z",
     "start_time": "2024-01-27T16:43:20.711597Z"
    }
   },
   "id": "be326a621f346fdc",
   "execution_count": 12
  },
  {
   "cell_type": "code",
   "outputs": [],
   "source": [],
   "metadata": {
    "collapsed": false,
    "ExecuteTime": {
     "end_time": "2024-01-27T16:43:20.738309Z",
     "start_time": "2024-01-27T16:43:20.715873Z"
    }
   },
   "id": "5674fd89bd86b8e6",
   "execution_count": 12
  }
 ],
 "metadata": {
  "kernelspec": {
   "display_name": "Python 3",
   "language": "python",
   "name": "python3"
  },
  "language_info": {
   "codemirror_mode": {
    "name": "ipython",
    "version": 2
   },
   "file_extension": ".py",
   "mimetype": "text/x-python",
   "name": "python",
   "nbconvert_exporter": "python",
   "pygments_lexer": "ipython2",
   "version": "2.7.6"
  }
 },
 "nbformat": 4,
 "nbformat_minor": 5
}
